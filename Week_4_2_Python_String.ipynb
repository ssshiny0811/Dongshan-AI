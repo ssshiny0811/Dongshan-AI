{
  "nbformat": 4,
  "nbformat_minor": 0,
  "metadata": {
    "kernelspec": {
      "display_name": "Python 3",
      "language": "python",
      "name": "python3"
    },
    "language_info": {
      "codemirror_mode": {
        "name": "ipython",
        "version": 3
      },
      "file_extension": ".py",
      "mimetype": "text/x-python",
      "name": "python",
      "nbconvert_exporter": "python",
      "pygments_lexer": "ipython3",
      "version": "3.7.4"
    },
    "colab": {
      "name": "Week 4-2 Python String.ipynb",
      "provenance": [],
      "collapsed_sections": [
        "MwCHJVwwjwfk"
      ],
      "include_colab_link": true
    }
  },
  "cells": [
    {
      "cell_type": "markdown",
      "metadata": {
        "id": "view-in-github",
        "colab_type": "text"
      },
      "source": [
        "<a href=\"https://colab.research.google.com/github/ssshiny0811/Dongshan-AI/blob/master/Week_4_2_Python_String.ipynb\" target=\"_parent\"><img src=\"https://colab.research.google.com/assets/colab-badge.svg\" alt=\"Open In Colab\"/></a>"
      ]
    },
    {
      "cell_type": "markdown",
      "metadata": {
        "id": "xaLYRFp1jwee"
      },
      "source": [
        "![](http://www.tshs.tp.edu.tw/images/bg/logo.jpg) \n",
        "\n",
        "## 多元選修課程：Python與人工智慧程式設計\n",
        "\n",
        "# 【第四週-2】Python字元與字串"
      ]
    },
    {
      "cell_type": "markdown",
      "metadata": {
        "id": "c0fNuljDjwef"
      },
      "source": [
        "### 【任務4-8】初識字串(string)\n",
        "\n",
        "Python的字串(string)是指包含在兩個單引號(`'`)或是兩個雙引號(`\"`)之間的字元及符號資料。Python 3之後對於萬國編碼(unicode)字元的支援更好，所以在處理字元時更加方便。\n",
        "\n",
        "跟其他很多程式語言不同的地方在於，單一字元或是多個宇元組成的字串，在Python裡面均屬於字串類別，所以在處理字元和字串時，大部分情況下可以視為相同。"
      ]
    },
    {
      "cell_type": "code",
      "metadata": {
        "id": "2hEsp8Gcjweg"
      },
      "source": [
        "print(type('s'))\n",
        "print(type(\"hello world\"))"
      ],
      "execution_count": null,
      "outputs": []
    },
    {
      "cell_type": "markdown",
      "metadata": {
        "id": "F7oE9H_3jwek"
      },
      "source": [
        "用 `len()` 函式查看字元/字串的長度。從範例裡面我們可以看到，不管是ascii code或是unicode字元/字串的字數算法都一樣，不會因為是中文字而長度不同。"
      ]
    },
    {
      "cell_type": "code",
      "metadata": {
        "id": "DBsURXdhjwek"
      },
      "source": [
        "print(len('a'))\n",
        "print(len('黃'))"
      ],
      "execution_count": null,
      "outputs": []
    },
    {
      "cell_type": "code",
      "metadata": {
        "id": "40KOoa2bjwen"
      },
      "source": [
        "ss='黃'.encode('Big5')\n",
        "len(ss)"
      ],
      "execution_count": null,
      "outputs": []
    },
    {
      "cell_type": "markdown",
      "metadata": {
        "id": "wai0ii2ojweq"
      },
      "source": [
        "實務上常需要用到數字和字串互轉的情況，這時候可以用內建的函式 `int()` 及 `str()`。"
      ]
    },
    {
      "cell_type": "code",
      "metadata": {
        "id": "UQ-qedqajweq"
      },
      "source": [
        "s = input(\"請輸入一個數字：\")   # 輸入的雖然是數字，但是Python是當做字串來處理。"
      ],
      "execution_count": null,
      "outputs": []
    },
    {
      "cell_type": "code",
      "metadata": {
        "id": "UaiCbCEDjwet"
      },
      "source": [
        "# 比較前先把輸入值轉為數字，再進行比較\n",
        "if int(s) < 3:\n",
        "    print(\"輸入的數字小於3\")\n",
        "else:\n",
        "    print(\"輸入的數字大於或等於3\")"
      ],
      "execution_count": null,
      "outputs": []
    },
    {
      "cell_type": "code",
      "metadata": {
        "id": "mq1A4WUajwew"
      },
      "source": [
        "# 把數字轉為字串\n",
        "n = str(123)\n",
        "type(n)"
      ],
      "execution_count": null,
      "outputs": []
    },
    {
      "cell_type": "markdown",
      "metadata": {
        "id": "bRTTTXsWjwez"
      },
      "source": [
        "### 【任務4-9】對字串做 `+` 和 `*` 會發生什麼事？\n",
        "\n",
        "`+` 可以用來合併字串。\n",
        "\n",
        "`*` 可以用來重複字串。"
      ]
    },
    {
      "cell_type": "code",
      "metadata": {
        "id": "1D6AvATzjwez"
      },
      "source": [
        "str1 = 'hello'\n",
        "str2 = 'world'\n",
        "\n",
        "str1 + ' ' + str2"
      ],
      "execution_count": null,
      "outputs": []
    },
    {
      "cell_type": "code",
      "metadata": {
        "id": "NKAbzOUAjwe2"
      },
      "source": [
        "(str1 + ' ') * 3"
      ],
      "execution_count": null,
      "outputs": []
    },
    {
      "cell_type": "markdown",
      "metadata": {
        "id": "WoMef4p0jwe4"
      },
      "source": [
        "### 【任務4-10】在字串中擷取其中的一部分(字元或子字串)\n",
        "\n",
        "在字串中擷取其中的一部分，可以使用索引或切片(slicing)。"
      ]
    },
    {
      "cell_type": "markdown",
      "metadata": {
        "id": "51AxXv1Ljwe5"
      },
      "source": [
        "#### 索引\n",
        "\n",
        "索引是用來找出字串中特定字元的位置。\n",
        "\n",
        "索引值是從0開始，所以第5個字的索引是4，第6個字的索引是5"
      ]
    },
    {
      "cell_type": "code",
      "metadata": {
        "id": "xeERDpChjwe5"
      },
      "source": [
        "s = \"hello world\""
      ],
      "execution_count": null,
      "outputs": []
    },
    {
      "cell_type": "code",
      "metadata": {
        "id": "WsFsDt4vjwe7"
      },
      "source": [
        "# 找出字串中的第5和第6個字\n",
        "# 索引值是從0開始，所以第5個字的索引是4，第6個字的索引是5\n",
        "s[4], s[5]"
      ],
      "execution_count": null,
      "outputs": []
    },
    {
      "cell_type": "code",
      "metadata": {
        "id": "nsTyZ8Qrjwe-"
      },
      "source": [
        "# 負索引值的意思是從字尾往前算，-1的話是取最後一個字元\n",
        "s[-1]"
      ],
      "execution_count": null,
      "outputs": []
    },
    {
      "cell_type": "markdown",
      "metadata": {
        "id": "CiaaGJK3jwfB"
      },
      "source": [
        "#### 切片(slicing)\n",
        "\n",
        "切片是用來擷取字串中的部分內容，可以稱之為子字串。\n",
        "\n",
        "切片的語法：\n",
        "\n",
        "```python\n",
        "字串名[起始索引:結束索引[:跨步值]]\n",
        "```\n",
        "\n",
        "須留意，結束索引的字元是<font color='red'>**不會包含**</font>在切片結果的。"
      ]
    },
    {
      "cell_type": "code",
      "metadata": {
        "id": "j__jPqRMjwfB"
      },
      "source": [
        "# 跨步值預設值是1，可以不輸入。\n",
        "s[0:4]"
      ],
      "execution_count": null,
      "outputs": []
    },
    {
      "cell_type": "code",
      "metadata": {
        "id": "ar0YebzzjwfE"
      },
      "source": [
        "# 取回間隔的字元\n",
        "s[0:12:2]"
      ],
      "execution_count": null,
      "outputs": []
    },
    {
      "cell_type": "code",
      "metadata": {
        "id": "bqgVA0R8jwfG"
      },
      "source": [
        "# 如果沒有起始或結束索引的話，代表取回之前或之後的所有字元。\n",
        "s[:5]"
      ],
      "execution_count": null,
      "outputs": []
    },
    {
      "cell_type": "markdown",
      "metadata": {
        "id": "wRvUtCPKjwfI"
      },
      "source": [
        "### 【任務4-11】了解跳脫字元(escape character)\n",
        "\n",
        "在字串或是純文字的處理時，我們常需要處理符號(例如引號)和特定的字元(例如換行)，這時候需要藉助跳脫字元的標示，才能正確地處理文字，達到我們預期的效果。\n",
        "\n",
        "常用跳脫字元如下：\n",
        "\n",
        "|跳脫字元|意義|\n",
        "|---|---|\n",
        "|\\'|單引號|\n",
        "|\\\"|雙引號|\n",
        "|`\\\\`|反斜線|\n",
        "|\\n|換行|\n",
        "|\\t|tab鍵|\n",
        "\n",
        "例如：若要印出Lilian's full name這個字串，裡面的單引號會跟Python字串的單引號混淆，造成輸出錯誤。"
      ]
    },
    {
      "cell_type": "code",
      "metadata": {
        "id": "NeDRq6znjwfJ"
      },
      "source": [
        "print('Lilian's full name is James Huang.')"
      ],
      "execution_count": null,
      "outputs": []
    },
    {
      "cell_type": "markdown",
      "metadata": {
        "id": "VijUoTYnjwfL"
      },
      "source": [
        "使用跳脫字元，正確告訴Python那是字串內的單引號，要正常印出。"
      ]
    },
    {
      "cell_type": "code",
      "metadata": {
        "id": "ZJYZQwUQjwfL"
      },
      "source": [
        "print('Lilian\\'s full name is Lilian Huang.')"
      ],
      "execution_count": null,
      "outputs": []
    },
    {
      "cell_type": "markdown",
      "metadata": {
        "id": "wTSMYeVujwfO"
      },
      "source": [
        "### 【任務4-12】判斷字串開頭跟結尾是否符合特定字串\n",
        "\n",
        "用下列兩個函式，可以讓我們找到字串開頭跟結尾是否符合特定字串。\n",
        "\n",
        "|函式|意義|\n",
        "|---|---|\n",
        "|`startswith(prefix)`|判斷字串開頭是否符合某些字元或字串|\n",
        "|`str.endswith(suffix)`|判斷字串結尾是否符合某些字元或字串|\n",
        "\n",
        "同樣的函式選用參數中，可以傳入起始和結束索引，在這個索引區間中的子字串去判斷開頭跟結尾是否符合特定字串。\n",
        "\n",
        "|函式|意義|\n",
        "|---|---|\n",
        "|`startswith(prefix[, start[, end]])`|判斷字串的特定位置是否是由某些字元或字串開頭|\n",
        "|`str.endswith(suffix[, start[, end]])`|判斷字串的特定位置是否是由某些字元或字串結尾|\n",
        "\n",
        "如果有找到符合的字串，回傳 `True`，否則回傳 `False`。"
      ]
    },
    {
      "cell_type": "code",
      "metadata": {
        "id": "T0JodgLSjwfO"
      },
      "source": [
        "s = 'hello world'\n",
        "s.startswith('hel')"
      ],
      "execution_count": null,
      "outputs": []
    },
    {
      "cell_type": "code",
      "metadata": {
        "id": "kCqV_IS2jwfR"
      },
      "source": [
        "s.startswith('lo', 6, 10)"
      ],
      "execution_count": null,
      "outputs": []
    },
    {
      "cell_type": "code",
      "metadata": {
        "id": "f-KwemWKjwfT"
      },
      "source": [
        "s.endswith('lo', 0, 5)"
      ],
      "execution_count": null,
      "outputs": []
    },
    {
      "cell_type": "markdown",
      "metadata": {
        "id": "ldT0LU0OjwfV"
      },
      "source": [
        "### 【任務4-13】刪除字串裡，頭或尾的特定字元組合\n",
        "\n",
        "|函式|意義|\n",
        "|---|---|\n",
        "|str.strip([chars])|刪除字串裡，頭及尾的特定字元組合|\n",
        "|str.lstrip([chars])|刪除字串裡，開頭的特定字元組合|\n",
        "|str.rstrip([chars])|刪除字串裡，結尾的特定字元組合|\n",
        "\n",
        "下面的例子中，只要有包含 `cmowz.` 字元的任何組合，從頭開始或是從尾往回找，都是要刪除的內容。由於 `e` 不屬於要找的字元組合裡面，所以找到 `e` 就停止，因此去頭去尾之後的字串是 `example`。"
      ]
    },
    {
      "cell_type": "code",
      "metadata": {
        "id": "sHnwT2TojwfV"
      },
      "source": [
        "'www.example.com'.strip('cmowz.')"
      ],
      "execution_count": null,
      "outputs": []
    },
    {
      "cell_type": "markdown",
      "metadata": {
        "id": "KrtlW1udjwfX"
      },
      "source": [
        "### 【想一想】下面程式執行後，會得到什麼字串？\n",
        "\n",
        "```python\n",
        "s = '詩文:寥落古行宮，宮花寂寞紅。白頭宮女在，閒坐說玄宗。'\n",
        "s.strip('文:詩')\n",
        "```"
      ]
    },
    {
      "cell_type": "code",
      "metadata": {
        "id": "tJRED7ZSjwfX"
      },
      "source": [
        ""
      ],
      "execution_count": null,
      "outputs": []
    },
    {
      "cell_type": "markdown",
      "metadata": {
        "id": "LuDYgMe4jwfZ"
      },
      "source": [
        "### 【任務4-14】怎麼更換字串的特定字串\n",
        "\n",
        "用 `replace()` 函式，傳入參數：待更換字串、要更換的字串。也可以傳入要更換的次數，預設值為1，也就是預設僅更新找到第一筆符合的字串。\n",
        "\n",
        "```python\n",
        "str.replace(old, new[, count])\n",
        "```"
      ]
    },
    {
      "cell_type": "code",
      "metadata": {
        "id": "iyO0IM_Bjwfa"
      },
      "source": [
        "s = 'hello world'\n",
        "s.replace('world', 'python')"
      ],
      "execution_count": null,
      "outputs": []
    },
    {
      "cell_type": "markdown",
      "metadata": {
        "id": "PdquX6SPjwfc"
      },
      "source": [
        "### 【任務4-15】串列(List)和字串互相轉換\n",
        "\n",
        "串列和字串都是可迭代的物件，實務上常會遇到需要轉換的機會。\n",
        "\n",
        "用 `list()` 及 `' '.join(list)` 函式可以將字串轉為串列，或將串列轉為文字輸出。"
      ]
    },
    {
      "cell_type": "code",
      "metadata": {
        "id": "jEF7C06-jwfd"
      },
      "source": [
        "s = \"hello world\"\n",
        "\n",
        "a = list(s)\n",
        "a"
      ],
      "execution_count": null,
      "outputs": []
    },
    {
      "cell_type": "code",
      "metadata": {
        "id": "KwzY1bP8jwff"
      },
      "source": [
        "''.join(a)"
      ],
      "execution_count": null,
      "outputs": []
    },
    {
      "cell_type": "markdown",
      "metadata": {
        "id": "LTGN15zbjwfh"
      },
      "source": [
        "在 join 時也可以定義在每個元素之間要插入的字串或符號。"
      ]
    },
    {
      "cell_type": "code",
      "metadata": {
        "id": "Q_UvCOisjwfi"
      },
      "source": [
        "'... '.join(a)"
      ],
      "execution_count": null,
      "outputs": []
    },
    {
      "cell_type": "markdown",
      "metadata": {
        "id": "iWyjhnwIjwfk"
      },
      "source": [
        "### 【任務4-16】熟悉Python，不會作詩會也寫藏頭唐詩生成器\n",
        "\n",
        "這是一個簡易版本的**藏頭唐詩產生器**，用來練習Python字串處理。\n",
        "\n",
        "唐詩資料來源：[https://github.com/rime-aca/corpus/blob/master/%E5%94%90%E8%A9%A9%E4%B8%89%E7%99%BE%E9%A6%96.txt](https://github.com/rime-aca/corpus/blob/master/%E5%94%90%E8%A9%A9%E4%B8%89%E7%99%BE%E9%A6%96.txt)"
      ]
    },
    {
      "cell_type": "markdown",
      "metadata": {
        "id": "MwCHJVwwjwfk"
      },
      "source": [
        "#### 步驟\n",
        "\n",
        "1. 第一件事，先想想我們要怎麼樣取得唐詩的資料？自己輸入唐詩，還是去找找有沒有現成免費的可以拿來用？哪一種方式比較可行？\n",
        "\n",
        "2. 第二件事，拿到資料，先分析資料要怎麼使用。開啟唐詩來源檔(300.txt)，它是一個文字檔，內容包含詩名、作者、詩體、詩文，詩文是我們要保留的唐詩本文。\n",
        "\n",
        "3. 再開啟另一個檔案，我們將會把去掉不需要內容後的唐詩本文，存到另一個文字檔案(300cleaned.txt)。"
      ]
    },
    {
      "cell_type": "code",
      "metadata": {
        "id": "BN0txhi5jwfk"
      },
      "source": [
        "f_original = open(\"300.txt\", \"r\")         # open() 函式用來開啟檔案，參數包含檔案及開啟模式，\n",
        "                                          # 模式 r 的意思是讀取模式，不能寫入或更新。\n",
        "f_cleaned = open(\"300cleaned.txt\", \"w\")   # 模式 w 的意思是寫入模式。"
      ],
      "execution_count": null,
      "outputs": []
    },
    {
      "cell_type": "markdown",
      "metadata": {
        "id": "PYdWnyF9jwfm"
      },
      "source": [
        "4. 逐行讀入唐詩來源檔。\n",
        "\n",
        "5. 逐行解析每一行文字，只要發現該行裡面有 `詩文:` 字樣，就處理這一行。詩文也就是我們要保留下來的唐詩本文。\n",
        "\n",
        "6. 先去掉 `詩文:` 字樣，再來把每句句尾的 `， 。 ？` 取代為換行符號 `\\n`。\n",
        "\n",
        "7. 把處理完的字串，儲存到文字檔(300cleaned.txt)中，這個文字檔內容是解析完的唐詩本文。"
      ]
    },
    {
      "cell_type": "code",
      "metadata": {
        "id": "qsWJAzuNjwfn"
      },
      "source": [
        "# 逐行讀入唐詩來源檔\n",
        "Lines = f_original.readlines() \n",
        "  \n",
        "for line in Lines: \n",
        "    if '詩文:' in line:\n",
        "        # 把 '詩文:' 字樣去掉\n",
        "        stripped = line.strip('詩文:')\n",
        "        \n",
        "        # 把每句句尾的 '， 。 ？' 取代為換行符號 '\\n'\n",
        "        stripped = stripped.replace(\"，\", \"\\n\").replace(\"。\", \"\\n\").replace(\"？\", \"\\n\")\n",
        "        \n",
        "        # 把處理完的字串，儲存到文字檔\n",
        "        f_cleaned.write(stripped)\n",
        "\n",
        "# 檔案使用完畢，記得要使用 close() 函式關閉檔案。\n",
        "# 已關閉的檔案就不能再被取用。\n",
        "f_original.close()\n",
        "f_cleaned.close()"
      ],
      "execution_count": null,
      "outputs": []
    },
    {
      "cell_type": "markdown",
      "metadata": {
        "id": "5ocFCf9Xjwfp"
      },
      "source": [
        "8. 開啟處理過的唐詩本文文字檔(300cleaned.txt)，逐行讀入檔案內容。\n",
        "\n",
        "9. 把五言、七言、其他字數的行數分離出來，分別存入不同的串列。"
      ]
    },
    {
      "cell_type": "code",
      "metadata": {
        "id": "JGms0zlzjwfp"
      },
      "source": [
        "five_words = []\n",
        "seven_words = []\n",
        "other_words = []\n",
        "\n",
        "f = open(\"300cleaned.txt\", \"r\")\n",
        "\n",
        "Lines = f.readlines()\n",
        "\n",
        "for line in Lines:\n",
        "    # 由於每句句尾都有換行字元，要計算字數時須排除才能算出正確字數\n",
        "    if len(line.strip('\\n')) == 5:   \n",
        "        five_words.append(line)\n",
        "    elif len(line.strip('\\n')) == 7:\n",
        "        seven_words.append(line)\n",
        "    else:\n",
        "        other_words.append(line)\n",
        "        \n",
        "f.close()"
      ],
      "execution_count": null,
      "outputs": []
    },
    {
      "cell_type": "markdown",
      "metadata": {
        "id": "tyxWgUJJjwfr"
      },
      "source": [
        "10. 使用 random 模組，把五言、七言、其他字數串列中的元素，做洗牌的動作，讓我們可以每次都得到不同的詩句。"
      ]
    },
    {
      "cell_type": "code",
      "metadata": {
        "id": "gg2Ny-z-jwfs"
      },
      "source": [
        "import random\n",
        "\n",
        "random.shuffle(five_words)\n",
        "random.shuffle(seven_words)\n",
        "random.shuffle(other_words)"
      ],
      "execution_count": null,
      "outputs": []
    },
    {
      "cell_type": "markdown",
      "metadata": {
        "id": "agPuagLEjwft"
      },
      "source": [
        "11. 輸入要產生五言或七言，以及藏頭詩的句首。"
      ]
    },
    {
      "cell_type": "code",
      "metadata": {
        "id": "knIkdwGSjwfu"
      },
      "source": [
        "number = input(\"請問要產生五言還是七言(輸入數字5或7)：\")"
      ],
      "execution_count": null,
      "outputs": []
    },
    {
      "cell_type": "code",
      "metadata": {
        "id": "Lr5hXojejwfw"
      },
      "source": [
        "userinput = input(\"請輸入藏頭詩的句首：\")"
      ],
      "execution_count": null,
      "outputs": []
    },
    {
      "cell_type": "markdown",
      "metadata": {
        "id": "ABnyaSk0jwfy"
      },
      "source": [
        "12. 根據輸入的藏頭詩的句首和五言/七言，到串列中找到符合各句句首的詩句。\n",
        "\n",
        "13. 把產生出來的詩句存到串列中。\n",
        "\n",
        "14. 印出藏頭詩。"
      ]
    },
    {
      "cell_type": "code",
      "metadata": {
        "id": "8BZbye3kjwfy"
      },
      "source": [
        "acrostic = []\n",
        "\n",
        "# 根據輸入的藏頭詩的句首和五言/七言，到串列中找到符合各句句首的詩句。\n",
        "for s in userinput:\n",
        "    # 用 input 得到的五言/七言選項是字串型別，\n",
        "    # 所以需要用 int() 函式轉換為整數，再進行\n",
        "    # 比較。\n",
        "    if int(number) == 5:             \n",
        "        for i in five_words:\n",
        "            if i.startswith(s):      # 如果找到符合的句首\n",
        "                acrostic.append(i)   # 把產生出來的詩句存到串列中\n",
        "                break\n",
        "    elif int(number) == 7:\n",
        "        for i in seven_words:\n",
        "            if i.startswith(s):\n",
        "                acrostic.append(i)\n",
        "                break\n",
        "    else:\n",
        "        for i in other_words:\n",
        "            if i.startswith(s):\n",
        "                acrostic.append(i)\n",
        "                break\n",
        "\n",
        "# 如果產生出來的藏頭詩串列元素數目小於輸入的句首字數，\n",
        "# 代表找不到足夠的符合句首來產生藏頭詩。\n",
        "# \n",
        "# 成功產生的話，輸出產生的藏頭詩。\n",
        "if len(acrostic) < len(userinput):\n",
        "    print(\"找不到合適的句首生成藏頭詩\")\n",
        "else:\n",
        "    print(\"產生的藏頭詩：\")\n",
        "    print(''.join(acrostic))"
      ],
      "execution_count": null,
      "outputs": []
    },
    {
      "cell_type": "markdown",
      "metadata": {
        "id": "HILOGbB4jwf0"
      },
      "source": [
        "### 【任務4-17】怎麼知道有哪些字可以拿來當做藏頭呢"
      ]
    },
    {
      "cell_type": "code",
      "metadata": {
        "id": "0BS8eG1Xjwf0"
      },
      "source": [
        "first_word = []\n",
        "used = []\n",
        "\n",
        "for i in five_words:\n",
        "    first_word.append(i[0])   # 把五言詩句的字首擷取出來\n",
        "\n",
        "# 把不重複的字存到串列中，並印出來\n",
        "for x in first_word:\n",
        "    if x not in used:\n",
        "        used.append(x)\n",
        "\n",
        "print(' '.join(used))"
      ],
      "execution_count": null,
      "outputs": []
    },
    {
      "cell_type": "markdown",
      "metadata": {
        "id": "awtGnD1ujwf2"
      },
      "source": [
        "進階語法：<font color='red'>List comprehensions</font>，或譯為串列推導式，如範例可使用單行 for 迴圈產生串列。"
      ]
    },
    {
      "cell_type": "code",
      "metadata": {
        "id": "85t_SsEHjwf3"
      },
      "source": [
        "first_word = []\n",
        "used = []\n",
        "\n",
        "for i in five_words:\n",
        "    first_word.append(i[0])   # 把五言詩句的字首擷取出來\n",
        "\n",
        "# 進階語法：把不重複的字存到串列中，並印出來\n",
        "[used.append(x) for x in first_word if x not in used]\n",
        "print(' '.join(used))"
      ],
      "execution_count": null,
      "outputs": []
    },
    {
      "cell_type": "markdown",
      "metadata": {
        "id": "cTEai2SYjwf5"
      },
      "source": [
        "### 【挑戰】想一想，要怎麼找到可以使用的七言詩句句首"
      ]
    },
    {
      "cell_type": "code",
      "metadata": {
        "id": "s4aKHvnZjwf5"
      },
      "source": [
        "# 請在下一行開始輸入你的程式碼\n"
      ],
      "execution_count": null,
      "outputs": []
    },
    {
      "cell_type": "markdown",
      "metadata": {
        "id": "GUNUhpq1jwf7"
      },
      "source": [
        "### 【挑戰】請問唐詩300首，句首(第一個字)用了多少個不重複的字？"
      ]
    },
    {
      "cell_type": "code",
      "metadata": {
        "id": "qpi8TI-Tjwf7"
      },
      "source": [
        "# 請在下一行開始輸入你的程式碼\n"
      ],
      "execution_count": null,
      "outputs": []
    },
    {
      "cell_type": "markdown",
      "metadata": {
        "id": "ACZwlrt6jwf-"
      },
      "source": [
        "### 【挑戰】想一想，這個藏頭唐詩生成器有什麼優缺點？有沒有什麼可以改善的地方？"
      ]
    },
    {
      "cell_type": "code",
      "metadata": {
        "id": "Y4kblYmkjwf-"
      },
      "source": [
        ""
      ],
      "execution_count": null,
      "outputs": []
    }
  ]
}