{
  "nbformat": 4,
  "nbformat_minor": 0,
  "metadata": {
    "colab": {
      "name": "Untitled",
      "provenance": [],
      "collapsed_sections": []
    },
    "kernelspec": {
      "name": "python3",
      "display_name": "Python 3"
    }
  },
  "cells": [
    {
      "cell_type": "markdown",
      "metadata": {
        "id": "TpcPJe5Nza-_"
      },
      "source": [
        "問題1. 請用Python及遞迴寫出費式數列函式"
      ]
    },
    {
      "cell_type": "code",
      "metadata": {
        "id": "dJnwFcufzlXE"
      },
      "source": [
        "def fibonacci(n):\n",
        "    if n == 0:\n",
        "        return 0\n",
        "    elif n == 1:\n",
        "        return 1\n",
        "    else:\n",
        "        return fibonacci(n-1) + fibonacci(n-2)"
      ],
      "execution_count": 5,
      "outputs": []
    },
    {
      "cell_type": "markdown",
      "metadata": {
        "id": "rHw7dJcR45ju"
      },
      "source": [
        "問題2. 請列出費氏數列的前10個數字 (從0開始)"
      ]
    },
    {
      "cell_type": "code",
      "metadata": {
        "id": "wJFr7bcZ49LK",
        "outputId": "a4af2406-f6bb-4b12-bfb0-f6eb9dc18dd0",
        "colab": {
          "base_uri": "https://localhost:8080/",
          "height": 34
        }
      },
      "source": [
        "def fibonacci(n):\n",
        "    if n == 0:\n",
        "        return 0\n",
        "    elif n == 1:\n",
        "        return 1\n",
        "    else:\n",
        "        return fibonacci(n-1) + fibonacci(n-2)\n",
        "\n",
        "a=fibonacci(0)\n",
        "b=fibonacci(1)\n",
        "c=fibonacci(2)\n",
        "d=fibonacci(3)\n",
        "e=fibonacci(4)\n",
        "f=fibonacci(5)\n",
        "g=fibonacci(6)\n",
        "h=fibonacci(7)\n",
        "i=fibonacci(8)\n",
        "j=fibonacci(9)\n",
        "\n",
        "print(a,b,c,d,e,f,g,h,i,j)\n"
      ],
      "execution_count": 4,
      "outputs": [
        {
          "output_type": "stream",
          "text": [
            "0 1 1 2 3 5 8 13 21 34\n"
          ],
          "name": "stdout"
        }
      ]
    },
    {
      "cell_type": "markdown",
      "metadata": {
        "id": "KS-0rxfo7Hbz"
      },
      "source": [
        "問題3. 根據費氏公式，請問第12個月的時候，兔子有幾隻\n"
      ]
    },
    {
      "cell_type": "code",
      "metadata": {
        "id": "vYr9O6CN7Kmc",
        "outputId": "a848b6b5-a2d6-4a7f-a280-699d39d1f823",
        "colab": {
          "base_uri": "https://localhost:8080/",
          "height": 34
        }
      },
      "source": [
        "print(fibonacci(12))"
      ],
      "execution_count": 6,
      "outputs": [
        {
          "output_type": "stream",
          "text": [
            "144\n"
          ],
          "name": "stdout"
        }
      ]
    }
  ]
}